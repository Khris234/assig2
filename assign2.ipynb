{
 "cells": [
  {
   "cell_type": "code",
   "execution_count": 14,
   "id": "694bfd73",
   "metadata": {},
   "outputs": [],
   "source": [
    "def Delivery():\n",
    "    oneWeek=6\n",
    "    sixDays=100\n",
    "    threeMonths=78 days"
   ]
  },
  {
   "cell_type": "code",
   "execution_count": 15,
   "id": "6be2e53b",
   "metadata": {},
   "outputs": [
    {
     "name": "stdout",
     "output_type": "stream",
     "text": [
      "enter the amount of fuel for 6 days:100\n",
      "100 litre is used in 6 days\n",
      "400 liters of fuel consumed in 4 weeks\n",
      "1200 liters of fuel consumed in 3 months \n"
     ]
    }
   ],
   "source": [
    "a= input('enter the amount of fuel for 6 days:')\n",
    "print(a, 'litre is used in 6 days')\n",
    "b=int (a)*int (4)\n",
    "print(b, 'liters of fuel consumed in 4 weeks')\n",
    "c=int(b)*int(3)\n",
    "print(c, 'liters of fuel consumed in 3 months ')"
   ]
  }
 ],
 "metadata": {
  "kernelspec": {
   "display_name": "Python 3 (ipykernel)",
   "language": "python",
   "name": "python3"
  },
  "language_info": {
   "codemirror_mode": {
    "name": "ipython",
    "version": 3
   },
   "file_extension": ".py",
   "mimetype": "text/x-python",
   "name": "python",
   "nbconvert_exporter": "python",
   "pygments_lexer": "ipython3",
   "version": "3.11.1"
  }
 },
 "nbformat": 4,
 "nbformat_minor": 5
}
